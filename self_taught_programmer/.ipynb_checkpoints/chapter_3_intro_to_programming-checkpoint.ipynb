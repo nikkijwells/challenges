{
 "cells": [
  {
   "cell_type": "code",
   "execution_count": 1,
   "metadata": {},
   "outputs": [
    {
     "name": "stdout",
     "output_type": "stream",
     "text": [
      "String1\n",
      "String2\n",
      "String3\n"
     ]
    }
   ],
   "source": [
    "print('String1')\n",
    "print('String2')\n",
    "print('String3')"
   ]
  },
  {
   "cell_type": "code",
   "execution_count": 3,
   "metadata": {},
   "outputs": [
    {
     "name": "stdout",
     "output_type": "stream",
     "text": [
      "this number is more than 10\n",
      "None\n"
     ]
    }
   ],
   "source": [
    "def print_message(num):\n",
    "    if num < 10: \n",
    "        print('this number is less than 10')\n",
    "    else: \n",
    "        print('this number is more than 10')\n",
    "\n",
    "print(print_message(15))"
   ]
  },
  {
   "cell_type": "code",
   "execution_count": null,
   "metadata": {},
   "outputs": [],
   "source": [
    "def print_message_2(num):\n",
    "    if num <= 10: \n",
    "        print('this number is less than 10')\n",
    "    elif num > 10\n",
    "    else: \n",
    "        print('this number is more than 10')\n",
    "\n",
    "print(print_message_2(15))"
   ]
  }
 ],
 "metadata": {
  "kernelspec": {
   "display_name": "Python 3",
   "language": "python",
   "name": "python3"
  },
  "language_info": {
   "codemirror_mode": {
    "name": "ipython",
    "version": 3
   },
   "file_extension": ".py",
   "mimetype": "text/x-python",
   "name": "python",
   "nbconvert_exporter": "python",
   "pygments_lexer": "ipython3",
   "version": "3.7.1"
  }
 },
 "nbformat": 4,
 "nbformat_minor": 2
}
